{
 "cells": [
  {
   "cell_type": "markdown",
   "metadata": {},
   "source": [
    "# Question 1 : Given the following jumbled word, OBANWRI guess the correct English word. \n",
    "A. RANIBOW \n",
    "B. RAINBOW \n",
    "C. BOWRANI \n",
    "D. ROBWANI \n"
   ]
  },
  {
   "cell_type": "code",
   "execution_count": 1,
   "metadata": {},
   "outputs": [
    {
     "name": "stdout",
     "output_type": "stream",
     "text": [
      "RAINBOW\n"
     ]
    }
   ],
   "source": [
    "import enchant\n",
    "a = enchant.Dict(\"en_US\")\n",
    "b = [\"RANIBOW\",\"RAINBOW\",\"BOWRANI\",\"ROBWANI\"]\n",
    "for i in range (len(b)):  \n",
    "    if a.check(b[i])== True:\n",
    "        print(b[i])"
   ]
  },
  {
   "cell_type": "markdown",
   "metadata": {},
   "source": [
    "# Question 2 : Write a program which prints “LETS UPGRADE”. (Please note that you have to print in ALL CAPS as given) \n"
   ]
  },
  {
   "cell_type": "code",
   "execution_count": 2,
   "metadata": {},
   "outputs": [
    {
     "name": "stdout",
     "output_type": "stream",
     "text": [
      "lets upgrade\n",
      "LETS UPGRADE\n"
     ]
    }
   ],
   "source": [
    "a = input(\"\").upper()\n",
    "print(a)"
   ]
  },
  {
   "cell_type": "markdown",
   "metadata": {},
   "source": [
    "# Question 3 : Write a program that takes cost price and selling price as input and displays whether the transaction is a Profit or a Loss or Neither."
   ]
  },
  {
   "cell_type": "code",
   "execution_count": 5,
   "metadata": {},
   "outputs": [
    {
     "name": "stdout",
     "output_type": "stream",
     "text": [
      "20\n",
      "30\n",
      "Profit\n",
      "20\n",
      "10\n",
      "Loss\n",
      "20\n",
      "20\n",
      "Neither\n",
      "19\n",
      "19\n",
      "Neither\n",
      "23\n",
      "7\n",
      "Loss\n",
      "19\n",
      "95\n",
      "Profit\n"
     ]
    }
   ],
   "source": [
    "for i in range (6):\n",
    "    Cost_price = int(input(\"\"))\n",
    "    Selling_price = int(input(\"\"))\n",
    "    transcation = (Selling_price - Cost_price)\n",
    "    if transcation >= 1:\n",
    "        print(\"Profit\")\n",
    "    elif transcation == 0:\n",
    "        print(\"Neither\")\n",
    "    else:\n",
    "        print(\"Loss\")"
   ]
  },
  {
   "cell_type": "markdown",
   "metadata": {},
   "source": [
    "# Question 4 : Write a program that takes an amount in Euros as input. You need to find its equivalent in Rupees and display it. Assume 1 Euro equals Rs. 80. \n",
    "Please note that you are expected to stick to the given input and output \n",
    "format as in sample test cases. Please don't add any extra lines such as \n",
    "'Enter a number', etc. \n",
    "Your program should take only one number as input and display the output.\n"
   ]
  },
  {
   "cell_type": "code",
   "execution_count": 8,
   "metadata": {},
   "outputs": [
    {
     "name": "stdout",
     "output_type": "stream",
     "text": [
      "20\n",
      "1600\n",
      "50\n",
      "4000\n",
      "72\n",
      "5760\n",
      "7\n",
      "560\n",
      "35\n",
      "2800\n",
      "23\n",
      "1840\n",
      "95\n",
      "7600\n",
      "18\n",
      "1440\n"
     ]
    }
   ],
   "source": [
    "for i in range (8):\n",
    "    x = 80\n",
    "    a = int(input(\"\"))\n",
    "    result = a * x\n",
    "    print(result)"
   ]
  }
 ],
 "metadata": {
  "kernelspec": {
   "display_name": "Python 3",
   "language": "python",
   "name": "python3"
  },
  "language_info": {
   "codemirror_mode": {
    "name": "ipython",
    "version": 3
   },
   "file_extension": ".py",
   "mimetype": "text/x-python",
   "name": "python",
   "nbconvert_exporter": "python",
   "pygments_lexer": "ipython3",
   "version": "3.8.3"
  }
 },
 "nbformat": 4,
 "nbformat_minor": 4
}
